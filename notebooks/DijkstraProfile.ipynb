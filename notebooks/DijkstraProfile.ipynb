{
 "cells": [
  {
   "cell_type": "code",
   "execution_count": null,
   "metadata": {},
   "outputs": [],
   "source": [
    "# EV Routing pakcage\n",
    "from ev_routing.dijkstra_profile import DijkstraProfile\n",
    "# Visualization packages\n",
    "import plotly.graph_objects as go\n",
    "import os\n",
    "\n",
    "\n",
    "# Initializing Dijsktra\n",
    "bl = {'lat': 52.510e0, 'lon': 13.383e0} # Bottom left corner coordinate\n",
    "tr = {'lat': 52.520e0, 'lon': 13.391e0} # Top right corner coordinate\n",
    "\n",
    "M = 30000\n",
    "\n",
    "area = [bl['lat'], bl['lon'], tr['lat'], tr['lon']]\n",
    "dp = DijkstraProfile(area, M)\n",
    "\n",
    "# Initializing bapbox\n",
    "mapbox_access_token = os.environ['mapbox_access_token']\n",
    "\n",
    "latitudes = [v['lat'] for v in dp.v.values()]\n",
    "longitudes = [v['lon'] for v in dp.v.values()]\n",
    "\n",
    "node_ids = [v['id'] for v in dp.v.values()]\n",
    "node_labels = [str(i) for i in range(len(dp.v))]"
   ]
  },
  {
   "cell_type": "code",
   "execution_count": null,
   "metadata": {},
   "outputs": [],
   "source": [
    "nodes_map = go.Figure()\n",
    "\n",
    "nodes_map.add_trace( go.Scattermapbox(\n",
    "    lat = latitudes,\n",
    "    lon = longitudes,\n",
    "    mode = 'markers',\n",
    "    marker = go.scattermapbox.Marker(\n",
    "        size = 12,\n",
    "        color = 'rgb(242, 177, 172)',\n",
    "        opacity=1.0\n",
    "    ),\n",
    "    text = node_labels,\n",
    "    hoverinfo = 'text'\n",
    "))\n",
    "\n",
    "nodes_map.update_layout(\n",
    "    autosize = True,\n",
    "    hovermode = 'closest',\n",
    "    showlegend = False,\n",
    "    mapbox = go.layout.Mapbox(\n",
    "        accesstoken = mapbox_access_token,\n",
    "        bearing = 0,\n",
    "        center = go.layout.mapbox.Center(\n",
    "            lat = dp.map_center[0],\n",
    "            lon = dp.map_center[1]\n",
    "        ),\n",
    "        pitch = 0,\n",
    "        zoom = 14,\n",
    "        style = 'light'\n",
    "    ),\n",
    ")\n",
    "\n",
    "nodes_map.update_layout(margin = {\"r\": 0, \"t\": 0, \"l\": 0, \"b\": 0})\n",
    "nodes_map.show()"
   ]
  },
  {
   "cell_type": "code",
   "execution_count": null,
   "metadata": {},
   "outputs": [],
   "source": [
    "dp.run(node_ids[170], node_ids[103])"
   ]
  }
 ],
 "metadata": {
  "kernelspec": {
   "display_name": "Python 3",
   "language": "python",
   "name": "python3"
  },
  "language_info": {
   "codemirror_mode": {
    "name": "ipython",
    "version": 3
   },
   "file_extension": ".py",
   "mimetype": "text/x-python",
   "name": "python",
   "nbconvert_exporter": "python",
   "pygments_lexer": "ipython3",
   "version": "3.6.5"
  }
 },
 "nbformat": 4,
 "nbformat_minor": 2
}
