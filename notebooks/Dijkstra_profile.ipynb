{
 "cells": [
  {
   "cell_type": "code",
   "execution_count": null,
   "metadata": {},
   "outputs": [],
   "source": [
    "# EV Routing pakcage\n",
    "from ev_routing.dijkstra_profile import DijkstraProfile\n",
    "# Visualization packages\n",
    "import plotly.graph_objects as go\n",
    "import os\n",
    "\n",
    "\n",
    "# Initializing Dijsktra\n",
    "bl = {'lat': 52.514e0, 'lon': 13.385e0} # Bottom left corner coordinate\n",
    "tr = {'lat': 52.516e0, 'lon': 13.387e0} # Top right corner coordinate\n",
    "\n",
    "M = 30000\n",
    "\n",
    "area = [bl['lat'], bl['lon'], tr['lat'], tr['lon']]\n",
    "dp = DijkstraProfile(area, M)\n",
    "\n",
    "# Initializing bapbox\n",
    "mapbox_access_token = os.environ['mapbox_access_token']\n",
    "\n",
    "node_ids = [v['id'] for v in dp.v.values()]\n",
    "node_labels = [str(i) for i in range(len(dp.v))]"
   ]
  }
 ],
 "metadata": {
  "kernelspec": {
   "display_name": "Python 3",
   "language": "python",
   "name": "python3"
  },
  "language_info": {
   "codemirror_mode": {
    "name": "ipython",
    "version": 3
   },
   "file_extension": ".py",
   "mimetype": "text/x-python",
   "name": "python",
   "nbconvert_exporter": "python",
   "pygments_lexer": "ipython3",
   "version": "3.6.5"
  }
 },
 "nbformat": 4,
 "nbformat_minor": 2
}
