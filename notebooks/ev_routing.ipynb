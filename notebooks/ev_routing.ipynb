{
 "cells": [
  {
   "cell_type": "code",
   "execution_count": null,
   "metadata": {},
   "outputs": [],
   "source": [
    "# EV Routing pakcage\n",
    "from ev_routing import EVRouting\n",
    "\n",
    "# Visualization packages\n",
    "import plotly.graph_objects as go\n",
    "\n",
    "import os\n",
    "\n",
    "\n",
    "# Initializing EVRouting\n",
    "bl = ( 52.50, 13.34 ) # Bottom left corner coordinate\n",
    "tr = ( 52.53, 13.43 ) # Top right corner coordinate\n",
    "\n",
    "area = [ bl[0], bl[1], tr[0], tr[1] ]\n",
    "evr = EVRouting( area )\n",
    "\n",
    "\n",
    "# Initializing bapbox\n",
    "mapbox_access_token = os.environ['mapbox_access_token']"
   ]
  },
  {
   "cell_type": "code",
   "execution_count": null,
   "metadata": {
    "scrolled": false
   },
   "outputs": [],
   "source": [
    "fig = go.Figure()\n",
    "\n",
    "fig.add_trace( go.Scattermapbox(\n",
    "    lat = evr.v['lat'],\n",
    "    lon = evr.v['lon'],\n",
    "    mode = 'markers',\n",
    "    marker = go.scattermapbox.Marker(\n",
    "        size = 3,\n",
    "        color = 'rgb(242, 177, 172)',\n",
    "        opacity=0.7\n",
    "    ),\n",
    "    text = 'Berlin',\n",
    "    hoverinfo = 'text'\n",
    "))\n",
    "\n",
    "fig.update_layout(\n",
    "    autosize = True,\n",
    "    hovermode = 'closest',\n",
    "    showlegend = False,\n",
    "    mapbox = go.layout.Mapbox(\n",
    "        accesstoken = mapbox_access_token,\n",
    "        bearing = 0,\n",
    "        center = go.layout.mapbox.Center(\n",
    "            lat = 52.515,\n",
    "            lon = 13.385\n",
    "        ),\n",
    "        pitch = 0,\n",
    "        zoom = 12,\n",
    "        style = 'light'\n",
    "    ),\n",
    ")\n",
    "\n",
    "fig.show()"
   ]
  },
  {
   "cell_type": "code",
   "execution_count": null,
   "metadata": {},
   "outputs": [],
   "source": [
    "\n"
   ]
  }
 ],
 "metadata": {
  "kernelspec": {
   "display_name": "Python 3",
   "language": "python",
   "name": "python3"
  },
  "language_info": {
   "codemirror_mode": {
    "name": "ipython",
    "version": 3
   },
   "file_extension": ".py",
   "mimetype": "text/x-python",
   "name": "python",
   "nbconvert_exporter": "python",
   "pygments_lexer": "ipython3",
   "version": "3.7.4"
  }
 },
 "nbformat": 4,
 "nbformat_minor": 2
}
