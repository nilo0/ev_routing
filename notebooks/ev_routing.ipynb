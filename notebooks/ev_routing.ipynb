{
 "cells": [
  {
   "cell_type": "code",
   "execution_count": null,
   "metadata": {
    "scrolled": true
   },
   "outputs": [],
   "source": [
    "# EV Routing pakcage\n",
    "from ev_routing import EVRouting\n",
    "\n",
    "# Visualization packages\n",
    "import plotly.graph_objects as go\n",
    "\n",
    "import os\n",
    "\n",
    "\n",
    "# Initializing EVRouting\n",
    "bl = ( 52.50, 13.34 ) # Bottom left corner coordinate\n",
    "tr = ( 52.53, 13.43 ) # Top right corner coordinate\n",
    "\n",
    "area = [ bl[0], bl[1], tr[0], tr[1] ]\n",
    "evr = EVRouting( area )\n",
    "\n",
    "\n",
    "# Initializing bapbox\n",
    "mapbox_access_token = os.environ['mapbox_access_token']"
   ]
  },
  {
   "cell_type": "code",
   "execution_count": null,
   "metadata": {
    "scrolled": false
   },
   "outputs": [],
   "source": [
    "nodes_map = go.Figure()\n",
    "\n",
    "nodes_map.add_trace( go.Scattermapbox(\n",
    "    lat = evr.v['lat'],\n",
    "    lon = evr.v['lon'],\n",
    "    mode = 'markers',\n",
    "    marker = go.scattermapbox.Marker(\n",
    "        size = 6,\n",
    "        color = 'rgb(242, 177, 172)',\n",
    "        opacity=0.7\n",
    "    ),\n",
    "    text = [ str(i) for i in range(len(evr.v)) ],\n",
    "    hoverinfo = 'text'\n",
    "))\n",
    "\n",
    "nodes_map.update_layout(\n",
    "    autosize = True,\n",
    "    hovermode = 'closest',\n",
    "    showlegend = False,\n",
    "    mapbox = go.layout.Mapbox(\n",
    "        accesstoken = mapbox_access_token,\n",
    "        bearing = 0,\n",
    "        center = go.layout.mapbox.Center(\n",
    "            lat = evr.map_center[0],\n",
    "            lon = evr.map_center[1]\n",
    "        ),\n",
    "        pitch = 0,\n",
    "        zoom = 12,\n",
    "        style = 'light'\n",
    "    ),\n",
    ")\n",
    "\n",
    "nodes_map.show()"
   ]
  },
  {
   "cell_type": "code",
   "execution_count": null,
   "metadata": {
    "scrolled": false
   },
   "outputs": [],
   "source": [
    "s = 5442\n",
    "t = 9410\n",
    "bs = 1e6\n",
    "\n",
    "bt, SoC, trace = evr.dijkstra( s, t, bs )\n",
    "bt"
   ]
  },
  {
   "cell_type": "code",
   "execution_count": null,
   "metadata": {
    "scrolled": true
   },
   "outputs": [],
   "source": [
    "trace_resolution = 50\n",
    "steps = int( len(trace) / 100 ) + 1\n",
    "\n",
    "trace_map = go.Figure()\n",
    "\n",
    "vp = evr.v[s]\n",
    "\n",
    "for vid in trace[ ::steps ]:\n",
    "    lat = [ vp['lat'], evr.v[vid]['lat'] ]\n",
    "    lon = [ vp['lon'], evr.v[vid]['lon'] ]\n",
    "    vp = evr.v[vid]\n",
    "\n",
    "    \n",
    "    trace_map.add_trace( go.Scattermapbox(\n",
    "        lat = lat,\n",
    "        lon = lon,\n",
    "        mode = 'lines',\n",
    "        line = go.scattermapbox.Line(\n",
    "            width = 6,\n",
    "            color = 'rgb(87, 160, 211)'\n",
    "        )\n",
    "    ))\n",
    "    \n",
    "trace_map.add_trace( go.Scattermapbox(\n",
    "    lat = [ evr.v[s]['lat'], evr.v[t]['lat'] ],\n",
    "    lon = [ evr.v[s]['lon'], evr.v[t]['lon'] ],\n",
    "    mode = 'markers',\n",
    "    marker = go.scattermapbox.Marker(\n",
    "        size = 10,\n",
    "        color = 'rgb(242, 177, 172)'\n",
    "    ),\n",
    "    text = [ 'Start', 'End' ],\n",
    "    hoverinfo = 'text'\n",
    "))\n",
    "\n",
    "trace_map.update_layout(\n",
    "    autosize = True,\n",
    "    hovermode = 'closest',\n",
    "    showlegend = False,\n",
    "    mapbox = go.layout.Mapbox(\n",
    "        accesstoken = mapbox_access_token,\n",
    "        bearing = 0,\n",
    "        center = go.layout.mapbox.Center(\n",
    "            lat = evr.map_center[0],\n",
    "            lon = evr.map_center[1]\n",
    "        ),\n",
    "        pitch = 0,\n",
    "        zoom = 12,\n",
    "        style = 'light'\n",
    "    ),\n",
    ")\n",
    "\n",
    "trace_map.show()"
   ]
  },
  {
   "cell_type": "code",
   "execution_count": null,
   "metadata": {},
   "outputs": [],
   "source": []
  }
 ],
 "metadata": {
  "kernelspec": {
   "display_name": "Python 3",
   "language": "python",
   "name": "python3"
  },
  "language_info": {
   "codemirror_mode": {
    "name": "ipython",
    "version": 3
   },
   "file_extension": ".py",
   "mimetype": "text/x-python",
   "name": "python",
   "nbconvert_exporter": "python",
   "pygments_lexer": "ipython3",
   "version": "3.7.4"
  }
 },
 "nbformat": 4,
 "nbformat_minor": 2
}
