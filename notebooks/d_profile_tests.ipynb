{
 "cells": [
  {
   "cell_type": "code",
   "execution_count": null,
   "metadata": {
    "scrolled": true
   },
   "outputs": [],
   "source": [
    "# EV Routing pakcage\n",
    "from ev_routing import EVRouting\n",
    "\n",
    "# Initializing EVRouting\n",
    "bl = { 'lat': 52.50e0, 'lon': 13.34e0 } # Bottom left corner coordinate\n",
    "tr = { 'lat': 52.53e0, 'lon': 13.43e0 } # Top right corner coordinate\n",
    "\n",
    "area = [ bl['lat'], bl['lon'], tr['lat'], tr['lon'] ]\n",
    "evr = EVRouting( area )"
   ]
  },
  {
   "cell_type": "markdown",
   "metadata": {},
   "source": [
    "# check sort on breakpoints"
   ]
  },
  {
   "cell_type": "code",
   "execution_count": null,
   "metadata": {},
   "outputs": [],
   "source": [
    "M = 10\n",
    "l = [(5, 3, 1), (M, float('-inf'), 0), (0, float('-inf'), 0), (2, 0, 1)]\n",
    "l.sort(key=lambda tup: tup[0])\n",
    "l"
   ]
  },
  {
   "cell_type": "markdown",
   "metadata": {},
   "source": [
    "# find_minimum_bv"
   ]
  },
  {
   "cell_type": "code",
   "execution_count": null,
   "metadata": {},
   "outputs": [],
   "source": [
    "M = 10\n",
    "l = [(0, float('-inf'), 0), (M, float('-inf'), 0)]\n",
    "print(evr.find_minimum_bv(l))\n",
    "\n",
    "l = [(0, float('-inf'), 0), (2, 0, 1), (5, 3, 1), (M, float('-inf'), 0)]\n",
    "print(evr.find_minimum_bv(l))\n",
    "\n",
    "f_v = [(3, float('-inf'), 0), (3, 0, 1), (10, 7, 0)]\n",
    "print(evr.find_minimum_bv(f_v))"
   ]
  },
  {
   "cell_type": "markdown",
   "metadata": {},
   "source": [
    "# f"
   ]
  },
  {
   "cell_type": "code",
   "execution_count": null,
   "metadata": {},
   "outputs": [],
   "source": [
    "f_e = [(0, float('-inf'), 0), (38.831985391857486, 0, 1), (1000, 961.1680146081425, 0)]\n",
    "\n",
    "evr._f(f_e, 1000)"
   ]
  },
  {
   "cell_type": "markdown",
   "metadata": {},
   "source": [
    "# target_prune"
   ]
  },
  {
   "cell_type": "code",
   "execution_count": null,
   "metadata": {
    "scrolled": false
   },
   "outputs": [],
   "source": [
    "v = evr.map._new_vertex(123, 12.34, 23.45)\n",
    "f_v = [(0, float('-inf'), 0), (3, 0, 1), (10, 7, 0)]\n",
    "t = evr.map._new_vertex(234, -34.56, 67.89)\n",
    "f_t = [(0, float('-inf'), 0), (2, 0, 1), (10, 8, 0)]\n",
    "M = 10\n",
    "evr.target_prune(v, f_v, t, f_t, M)"
   ]
  },
  {
   "cell_type": "markdown",
   "metadata": {},
   "source": [
    "# Link (step 1)"
   ]
  },
  {
   "cell_type": "code",
   "execution_count": null,
   "metadata": {
    "scrolled": true
   },
   "outputs": [],
   "source": [
    "f_u = [(0, 0, 1), (1000, 1000, 0)]\n",
    "f_e = [(0, float('-inf'), 0), (12.287117404223697, 0, 1), (1000, 987.7128825957763, 0)]\n",
    "\n",
    "evr.link_step1(f_u, f_e)"
   ]
  },
  {
   "cell_type": "markdown",
   "metadata": {},
   "source": [
    "# Link (step 2)"
   ]
  },
  {
   "cell_type": "code",
   "execution_count": null,
   "metadata": {},
   "outputs": [],
   "source": [
    "f_u = [(100, 0, 1), (400, 500, 0), (1000, 800, 0)]\n",
    "f_e = [(0, float('-inf'), 0), (100, 0, 1), (500, 600, 0), (800, 800, 1), (1000, 1000, 0)]\n",
    "\n",
    "evr.link_step2(f_e, f_u)"
   ]
  },
  {
   "cell_type": "code",
   "execution_count": null,
   "metadata": {},
   "outputs": [],
   "source": []
  },
  {
   "cell_type": "markdown",
   "metadata": {},
   "source": [
    "# merge"
   ]
  },
  {
   "cell_type": "code",
   "execution_count": null,
   "metadata": {
    "scrolled": true
   },
   "outputs": [],
   "source": [
    "M = 1000\n",
    "l_new = [(0, float('-inf'), 1), (12.287117404223697, 0, 1), (1000, 987.7128825957763, 0)]\n",
    "l_ij = [(0, float('-inf'), 0 ), (1000, float('-inf'), 0)]\n",
    "\n",
    "evr._soc_merge(l_ij, l_new, M)\n"
   ]
  },
  {
   "cell_type": "markdown",
   "metadata": {},
   "source": [
    "# d_profile"
   ]
  },
  {
   "cell_type": "code",
   "execution_count": null,
   "metadata": {
    "scrolled": true
   },
   "outputs": [],
   "source": [
    "s = 285865473\n",
    "t = 3342713378\n",
    "M = 1000\n",
    "evr.d_profile(s, t, M)"
   ]
  },
  {
   "cell_type": "code",
   "execution_count": null,
   "metadata": {},
   "outputs": [],
   "source": [
    "float('-inf')"
   ]
  },
  {
   "cell_type": "code",
   "execution_count": null,
   "metadata": {},
   "outputs": [],
   "source": [
    "def bo(x):\n",
    "    if 5 <= x <5:\n",
    "        return True\n",
    " \n",
    "\n",
    "print(bo(5))\n",
    "    "
   ]
  }
 ],
 "metadata": {
  "kernelspec": {
   "display_name": "Python 3",
   "language": "python",
   "name": "python3"
  },
  "language_info": {
   "codemirror_mode": {
    "name": "ipython",
    "version": 3
   },
   "file_extension": ".py",
   "mimetype": "text/x-python",
   "name": "python",
   "nbconvert_exporter": "python",
   "pygments_lexer": "ipython3",
   "version": "3.6.5"
  }
 },
 "nbformat": 4,
 "nbformat_minor": 2
}
